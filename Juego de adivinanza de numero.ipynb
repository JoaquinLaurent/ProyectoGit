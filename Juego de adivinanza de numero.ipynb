{
 "cells": [
  {
   "cell_type": "code",
   "execution_count": 43,
   "id": "d8c146f6",
   "metadata": {},
   "outputs": [
    {
     "name": "stdout",
     "output_type": "stream",
     "text": [
      "Bienvenido al juego de adivinanza de Joaquin!\n",
      "El juego consiste en adivinar un número al azar entre 1 y 10 en 2 intentos\n",
      "Ingrese el número aquí:10\n",
      "El número que elegiste es mayor, vuelve a intentarlo\n",
      "Ingrese el nuevo número aquí número aquí:9\n",
      "Lo siento no acertaste, el número era 6\n"
     ]
    }
   ],
   "source": [
    "print('Bienvenido al juego de adivinanza de Joaquin!')\n",
    "print('El juego consiste en adivinar un número al azar entre 1 y 10 en 2 intentos')\n",
    "import random\n",
    "\n",
    "x = random.randint(1,10)\n",
    "\n",
    "y = int(input('Ingrese el número aquí:'))\n",
    "if y==x :\n",
    "    print('Felicitaciones!! Acertaste!')\n",
    "elif y>x :\n",
    "    print('El número que elegiste es mayor, vuelve a intentarlo')\n",
    "    y = int(input('Ingrese el nuevo número aquí número aquí:')) \n",
    "elif y<x :\n",
    "    print('El número que elegiste es menor, vuelve a intentarlo. ')\n",
    "    y = int(input('Ingrese el nuevo número aquí número aquí:')) \n",
    "\n",
    "if y==x :\n",
    "    print('Felicitaciones!! Acertaste!')\n",
    "else:\n",
    "    str(x)\n",
    "    print(f'Lo siento no acertaste, el número era {x}')\n"
   ]
  },
  {
   "cell_type": "code",
   "execution_count": 6,
   "id": "c2ca013e",
   "metadata": {},
   "outputs": [
    {
     "name": "stdout",
     "output_type": "stream",
     "text": [
      "Inserte una letra:A\n",
      "Su letra es una vocal\n"
     ]
    }
   ],
   "source": [
    "vocales=['A','E','I','O','U']\n",
    "letra_min = input('Inserte una letra:')\n",
    "letra = letra_min.upper()\n",
    "if letra in vocales:\n",
    "    print ('Su letra es una vocal')\n",
    "else:\n",
    "    print ('Su letra no es una vocal')"
   ]
  },
  {
   "cell_type": "code",
   "execution_count": 45,
   "id": "83eb1432",
   "metadata": {},
   "outputs": [
    {
     "name": "stdout",
     "output_type": "stream",
     "text": [
      "Ingrese tres números distintos:1823712\n",
      "-1928391283\n",
      "-102381923981293\n",
      "Su numero más grande es 1823712\n"
     ]
    }
   ],
   "source": [
    "x = input('Ingrese tres números distintos:')\n",
    "y = input()\n",
    "z = input()\n",
    "mas_grande = max(x,y,z)\n",
    "print(f'Su numero más grande es {mas_grande}')"
   ]
  },
  {
   "cell_type": "code",
   "execution_count": 54,
   "id": "41dccc71",
   "metadata": {},
   "outputs": [
    {
     "name": "stdout",
     "output_type": "stream",
     "text": [
      "Ingrese su numero:4\n",
      "Restando uno\n",
      "Restando uno\n",
      "Restando uno\n",
      "Restando uno\n",
      "0\n"
     ]
    }
   ],
   "source": [
    "a = int(input('Ingrese su numero:'))\n",
    "\n",
    "while a>0:\n",
    "    a-=1\n",
    "    print('Restando uno')\n",
    "print(a)\n",
    "\n"
   ]
  },
  {
   "cell_type": "code",
   "execution_count": 62,
   "id": "2ce5a757",
   "metadata": {},
   "outputs": [
    {
     "name": "stdout",
     "output_type": "stream",
     "text": [
      "Ingrese su numero:10\n",
      "Restando uno\n",
      "Restando uno\n",
      "Restando uno\n",
      "Restando uno\n",
      "Restando uno\n",
      "Restando uno\n",
      "Restando uno\n",
      "Restando uno\n",
      "Restando uno\n",
      "Restando uno\n",
      "Restando uno\n"
     ]
    }
   ],
   "source": [
    "a = int(input('Ingrese su numero:'))\n",
    "\n",
    "while True and a>=0:\n",
    "    \n",
    "    a-=1\n",
    "    print('Restando uno')\n",
    "    \n"
   ]
  },
  {
   "cell_type": "code",
   "execution_count": 15,
   "id": "a705f3ad",
   "metadata": {},
   "outputs": [
    {
     "name": "stdout",
     "output_type": "stream",
     "text": [
      "Verifique si usted aprobó o recursó la materia:\n",
      "Ingrese su nombre:lucia\n",
      "Ingrese su calificación del primer parcial:5\n",
      "Ingrese su calificación del segundo parcial:8\n",
      "lucia recursa la materia\n"
     ]
    }
   ],
   "source": [
    "print('Verifique si usted aprobó o recursó la materia:')\n",
    "\n",
    "\n",
    "nombre = input('Ingrese su nombre:')\n",
    "x1 = int(input('Ingrese su calificación del primer parcial:'))\n",
    "x2 = int(input('Ingrese su calificación del segundo parcial:'))\n",
    "prom = (x1 + x2)/2\n",
    "if prom >= 7 :\n",
    "    print(f'{nombre} aprobó la materia')\n",
    "elif prom == 10 : \n",
    "    print(f'{nombre} aprobó con distinción')\n",
    "else:\n",
    "    print(f'{nombre} recursa la materia')"
   ]
  },
  {
   "cell_type": "code",
   "execution_count": 24,
   "id": "6edc0c35",
   "metadata": {},
   "outputs": [
    {
     "name": "stdout",
     "output_type": "stream",
     "text": [
      "Ingrese su numero:12\n",
      "Restando uno\n",
      "Restando uno\n",
      "Restando uno\n",
      "Restando uno\n",
      "Restando uno\n",
      "Restando uno\n",
      "Restando uno\n",
      "Restando uno\n",
      "Restando uno\n",
      "Restando uno\n",
      "Restando uno\n",
      "Restando uno\n",
      "0\n"
     ]
    }
   ],
   "source": [
    "a = int(input('Ingrese su numero:'))\n",
    "\n",
    "while a>0:\n",
    "    a-=1\n",
    "    print('Restando uno')\n",
    "    \n",
    "print(a)\n"
   ]
  },
  {
   "cell_type": "code",
   "execution_count": 16,
   "id": "70817969",
   "metadata": {},
   "outputs": [
    {
     "name": "stdout",
     "output_type": "stream",
     "text": [
      ".\n",
      ".\n",
      ".\n",
      "4 4 Variables Igualadas\n"
     ]
    }
   ],
   "source": [
    "variable_menor = -2\n",
    "variable_mayor = 10\n",
    "while variable_menor != variable_mayor:\n",
    "\n",
    "    variable_menor += 2\n",
    "    variable_mayor -= 2\n",
    "    print('.')\n",
    "print(variable_menor , variable_mayor , 'Variables Igualadas')"
   ]
  },
  {
   "cell_type": "code",
   "execution_count": null,
   "id": "f223f0e2",
   "metadata": {},
   "outputs": [],
   "source": [
    "#Bucle infinito\n",
    "\n",
    "a = 1\n",
    "while a>0 :\n",
    "    a+= 1\n",
    "    print(a)"
   ]
  },
  {
   "cell_type": "code",
   "execution_count": 23,
   "id": "39c75ab7",
   "metadata": {},
   "outputs": [
    {
     "data": {
      "text/plain": [
       "tuple"
      ]
     },
     "execution_count": 23,
     "metadata": {},
     "output_type": "execute_result"
    }
   ],
   "source": [
    "tupla1 = (1, 2, 3)\n",
    "lista_casteo = list(tupla1)\n",
    "type(tupla1)"
   ]
  },
  {
   "cell_type": "code",
   "execution_count": 7,
   "id": "b349da3e",
   "metadata": {},
   "outputs": [
    {
     "name": "stdout",
     "output_type": "stream",
     "text": [
      "[1, 2, 3, 4, 5]\n",
      "['a', 'b', 'c', 'd', 'e']\n",
      "['a', 'e']\n",
      "[2, 4]\n",
      "[1, 3, 5]\n",
      "['e', 5, 'd', 4, 'c', 3, 'b', 2, 'a', 1]\n"
     ]
    }
   ],
   "source": [
    "varios = [1, 'a', 2, \"b\", 3, \"c\", 4, 'd', 5, \"e\"]\n",
    "\n",
    "numeros = varios[::2]\n",
    "letras  = varios[1::2]\n",
    "vocales = varios[1::8]\n",
    "pares = varios[2::4]\n",
    "primos = varios[::4]\n",
    "inverso = varios[::-1]\n",
    "print(numeros)\n",
    "print(letras)\n",
    "print(vocales)\n",
    "print(pares)\n",
    "print(primos)\n",
    "print(inverso)"
   ]
  },
  {
   "cell_type": "code",
   "execution_count": 10,
   "id": "94418592",
   "metadata": {},
   "outputs": [],
   "source": [
    "yo = {'nombre': 'Joaquin' , 'apellido': 'Laurent' , 'mail' : 'joacolaurent@gmail.com' }\n",
    "\n"
   ]
  },
  {
   "cell_type": "code",
   "execution_count": 17,
   "id": "1fd8a5fd",
   "metadata": {},
   "outputs": [
    {
     "name": "stdout",
     "output_type": "stream",
     "text": [
      "['Demian', 'Pablo', 'Paolo', 'Julian']\n"
     ]
    }
   ],
   "source": [
    "nombres = ('Demian', 'Pablo', 'Paolo', 'Julian')\n",
    "\n",
    "profesores_dh = []\n",
    "\n",
    "for nombre in nombres:\n",
    "            profesores_dh.append(nombre)\n",
    "print(profesores_dh)"
   ]
  },
  {
   "cell_type": "code",
   "execution_count": 20,
   "id": "02cbda42",
   "metadata": {},
   "outputs": [
    {
     "data": {
      "text/plain": [
       "[9]"
      ]
     },
     "execution_count": 20,
     "metadata": {},
     "output_type": "execute_result"
    }
   ],
   "source": [
    "lista = [2, 4, 2, 5, 8, 1, 3]\n",
    "\n",
    "cuadrados = []\n",
    "\n",
    "for numeros in lista:\n",
    "  cuadrados = [numeros**2]\n",
    "cuadrados"
   ]
  },
  {
   "cell_type": "code",
   "execution_count": 22,
   "id": "0a7e942e",
   "metadata": {},
   "outputs": [
    {
     "data": {
      "text/plain": [
       "[4, 16, 4, 25, 64, 1, 9]"
      ]
     },
     "execution_count": 22,
     "metadata": {},
     "output_type": "execute_result"
    }
   ],
   "source": [
    "lista = [2, 4, 2, 5, 8, 1, 3]\n",
    "\n",
    "cuadrados = [numeros**2 for numeros in lista]\n",
    "cuadrados\n"
   ]
  },
  {
   "cell_type": "code",
   "execution_count": 23,
   "id": "bda9a371",
   "metadata": {},
   "outputs": [
    {
     "data": {
      "text/plain": [
       "['Hola Demian', 'Hola Pablo', 'Hola Paolo', 'Hola Julian']"
      ]
     },
     "execution_count": 23,
     "metadata": {},
     "output_type": "execute_result"
    }
   ],
   "source": [
    "nombres = ['Demian', 'Pablo', 'Paolo', 'Julian']\n",
    "\n",
    "saludos = ['Hola '+ nombre for nombre in nombres]\n",
    "saludos"
   ]
  },
  {
   "cell_type": "code",
   "execution_count": 25,
   "id": "6590e9fc",
   "metadata": {},
   "outputs": [
    {
     "name": "stdout",
     "output_type": "stream",
     "text": [
      "5.25\n"
     ]
    }
   ],
   "source": [
    "lista = [2, 5, 4, 8, 9, 3, 5, 6]\n",
    "\n",
    "contador = 0  \n",
    "sumatoria = 0 \n",
    "media = 0\n",
    "\n",
    "for n in lista:\n",
    "  contador += 1\n",
    "  sumatoria += n \n",
    "  media = sumatoria/contador\n",
    "print(media)"
   ]
  },
  {
   "cell_type": "code",
   "execution_count": 28,
   "id": "b6f5c956",
   "metadata": {},
   "outputs": [
    {
     "data": {
      "text/plain": [
       "True"
      ]
     },
     "execution_count": 28,
     "metadata": {},
     "output_type": "execute_result"
    }
   ],
   "source": [
    "\n"
   ]
  },
  {
   "cell_type": "code",
   "execution_count": 30,
   "id": "6601de1f",
   "metadata": {},
   "outputs": [
    {
     "data": {
      "text/plain": [
       "1.0"
      ]
     },
     "execution_count": 30,
     "metadata": {},
     "output_type": "execute_result"
    }
   ],
   "source": [
    "def mitad(x):\n",
    "  return x/2\n",
    "mitad(2)"
   ]
  },
  {
   "cell_type": "code",
   "execution_count": 43,
   "id": "a61e2a89",
   "metadata": {},
   "outputs": [
    {
     "name": "stdout",
     "output_type": "stream",
     "text": [
      "False\n"
     ]
    }
   ],
   "source": [
    "def tipo_de_dato(x):\n",
    "    if type(x) == 'str':\n",
    "        print(True)\n",
    "    elif type(x) == 'int':\n",
    "        print(False)\n",
    "    elif type(x) == 'bool':\n",
    "        print(False)\n",
    "    else:\n",
    "        print(False)\n",
    "tipo_de_dato(True)"
   ]
  },
  {
   "cell_type": "code",
   "execution_count": 37,
   "id": "74bfd1b3",
   "metadata": {},
   "outputs": [
    {
     "data": {
      "text/plain": [
       "int"
      ]
     },
     "execution_count": 37,
     "metadata": {},
     "output_type": "execute_result"
    }
   ],
   "source": [
    "type(10)"
   ]
  },
  {
   "cell_type": "code",
   "execution_count": 51,
   "id": "bcd41a33",
   "metadata": {},
   "outputs": [],
   "source": [
    "def tipo_de_dato(x):\n",
    "    if isinstance(x, str) == True:\n",
    "        print(True)\n",
    "    elif isinstance(x, int) == True:\n",
    "        print(False)\n",
    "    elif isinstance(x, bool) == True:\n",
    "        print(False)\n",
    "    else:\n",
    "        print(False)"
   ]
  },
  {
   "cell_type": "code",
   "execution_count": 56,
   "id": "1622b987",
   "metadata": {},
   "outputs": [
    {
     "name": "stdout",
     "output_type": "stream",
     "text": [
      "False\n"
     ]
    }
   ],
   "source": [
    "tipo_de_dato(3)"
   ]
  },
  {
   "cell_type": "code",
   "execution_count": 57,
   "id": "811f7daf",
   "metadata": {},
   "outputs": [],
   "source": [
    "def comparar_tipo(mi_objeto, tipo):\n",
    "    if isinstance(mi_objeto, tipo):\n",
    "        print(mi_objeto, 'es del tipo', tipo)\n",
    "    return True"
   ]
  },
  {
   "cell_type": "code",
   "execution_count": 58,
   "id": "1155d0cd",
   "metadata": {},
   "outputs": [
    {
     "data": {
      "text/plain": [
       "True"
      ]
     },
     "execution_count": 58,
     "metadata": {},
     "output_type": "execute_result"
    }
   ],
   "source": [
    "comparar_tipo(1230129 , str)"
   ]
  },
  {
   "cell_type": "code",
   "execution_count": 60,
   "id": "ee11d16c",
   "metadata": {},
   "outputs": [],
   "source": [
    "def tipo_de_dato(x):\n",
    "    if isinstance(x, str):\n",
    "        print(True)\n",
    "    elif isinstance(x, int):\n",
    "        print(False)\n",
    "    elif isinstance(x, bool):\n",
    "        print(False)\n",
    "    else:\n",
    "        print(False)\n",
    "\n",
    "    "
   ]
  },
  {
   "cell_type": "code",
   "execution_count": 61,
   "id": "b6ccbc53",
   "metadata": {},
   "outputs": [
    {
     "name": "stdout",
     "output_type": "stream",
     "text": [
      "False\n"
     ]
    }
   ],
   "source": [
    "tipo_de_dato(2524.24)"
   ]
  },
  {
   "cell_type": "code",
   "execution_count": 67,
   "id": "d41cfbe7",
   "metadata": {},
   "outputs": [],
   "source": [
    "def tipo_de_dato(x):\n",
    "    isinstance(x, str)\n",
    "    isinstance(x, int)\n",
    "    isinstance(x, bool)\n",
    "    return  "
   ]
  },
  {
   "cell_type": "code",
   "execution_count": 69,
   "id": "fa83f06f",
   "metadata": {},
   "outputs": [
    {
     "data": {
      "text/plain": [
       "False"
      ]
     },
     "execution_count": 69,
     "metadata": {},
     "output_type": "execute_result"
    }
   ],
   "source": [
    "tipo_de_dato(False)"
   ]
  },
  {
   "cell_type": "code",
   "execution_count": 73,
   "id": "ecd9756c",
   "metadata": {},
   "outputs": [
    {
     "data": {
      "text/plain": [
       "False"
      ]
     },
     "execution_count": 73,
     "metadata": {},
     "output_type": "execute_result"
    }
   ],
   "source": [
    "def tipo_de_dato(x):\n",
    "    if type(x) == str or type(x) == float:\n",
    "        return True\n",
    "    else:\n",
    "        return False\n",
    "tipo_de_dato(True)\n",
    "\n",
    "    "
   ]
  },
  {
   "cell_type": "code",
   "execution_count": null,
   "id": "1c9dd632",
   "metadata": {},
   "outputs": [],
   "source": []
  },
  {
   "cell_type": "code",
   "execution_count": 3,
   "id": "3660ac53",
   "metadata": {},
   "outputs": [],
   "source": [
    "def lista_par_impar(i):\n",
    "  mi_lista = []\n",
    "  for i in range(10):\n",
    "      mi_lista.append(i)"
   ]
  },
  {
   "cell_type": "code",
   "execution_count": 7,
   "id": "968eb7af",
   "metadata": {},
   "outputs": [
    {
     "ename": "NameError",
     "evalue": "name 'i' is not defined",
     "output_type": "error",
     "traceback": [
      "\u001b[1;31m---------------------------------------------------------------------------\u001b[0m",
      "\u001b[1;31mNameError\u001b[0m                                 Traceback (most recent call last)",
      "Input \u001b[1;32mIn [7]\u001b[0m, in \u001b[0;36m<cell line: 1>\u001b[1;34m()\u001b[0m\n\u001b[1;32m----> 1\u001b[0m lista_par_impar(\u001b[43mi\u001b[49m)\n",
      "\u001b[1;31mNameError\u001b[0m: name 'i' is not defined"
     ]
    }
   ],
   "source": [
    "lista_par_impar(i)"
   ]
  },
  {
   "cell_type": "code",
   "execution_count": 23,
   "id": "20f5e57e",
   "metadata": {},
   "outputs": [],
   "source": [
    "def lista_par_impar(list):\n",
    "    lista_pares = []\n",
    "    lista_impares = []\n",
    "    for x in list:\n",
    "         if x%2 == 0 :\n",
    "            lista_pares.append(x)\n",
    "    for x in list:\n",
    "        if x%2 == 1 :\n",
    "            lista_impares.append(x)\n",
    "    return lista_pares , lista_impares\n",
    "\n"
   ]
  },
  {
   "cell_type": "code",
   "execution_count": 11,
   "id": "e2c54f1d",
   "metadata": {},
   "outputs": [],
   "source": [
    "lista1 = [5,4,66,34,12,141,12,2,2,2,4,5,6,4,6,4,6,4]\n"
   ]
  },
  {
   "cell_type": "code",
   "execution_count": 24,
   "id": "e8ef8f79",
   "metadata": {},
   "outputs": [
    {
     "data": {
      "text/plain": [
       "([4, 66, 34, 12, 12], [5, 141])"
      ]
     },
     "execution_count": 24,
     "metadata": {},
     "output_type": "execute_result"
    }
   ],
   "source": [
    "lista_par_impar(lista1)"
   ]
  },
  {
   "cell_type": "code",
   "execution_count": 41,
   "id": "a6176bc8",
   "metadata": {},
   "outputs": [],
   "source": [
    "def contador(list):\n",
    "    contador= 0\n",
    "    for n in list:\n",
    "        contador+=1\n",
    "    return contador\n",
    "def sumatoria(list):\n",
    "    sumatoria=0\n",
    "    for n in list:\n",
    "        sumatoria += n \n",
    "    return sumatoria\n",
    "def media (list):\n",
    "  return sumatoria(list)/contador(list)\n"
   ]
  },
  {
   "cell_type": "code",
   "execution_count": 43,
   "id": "69b9e98c",
   "metadata": {},
   "outputs": [
    {
     "data": {
      "text/plain": [
       "39.142857142857146"
      ]
     },
     "execution_count": 43,
     "metadata": {},
     "output_type": "execute_result"
    }
   ],
   "source": [
    "media(lista1)"
   ]
  },
  {
   "cell_type": "code",
   "execution_count": 45,
   "id": "b2f5c3d0",
   "metadata": {},
   "outputs": [
    {
     "ename": "SyntaxError",
     "evalue": "invalid syntax (2088204161.py, line 2)",
     "output_type": "error",
     "traceback": [
      "\u001b[1;36m  Input \u001b[1;32mIn [45]\u001b[1;36m\u001b[0m\n\u001b[1;33m    from math import math.pi\u001b[0m\n\u001b[1;37m                         ^\u001b[0m\n\u001b[1;31mSyntaxError\u001b[0m\u001b[1;31m:\u001b[0m invalid syntax\n"
     ]
    }
   ],
   "source": [
    "def perimetro_circulo(radio):\n",
    "    from math import math.pi\n",
    "    return 2*math.pi()*radio"
   ]
  },
  {
   "cell_type": "code",
   "execution_count": 2,
   "id": "05b45f30",
   "metadata": {},
   "outputs": [],
   "source": [
    "def near_thousand(num):\n",
    "    return 1000>=num>=100"
   ]
  },
  {
   "cell_type": "code",
   "execution_count": 3,
   "id": "1c2157d6",
   "metadata": {},
   "outputs": [
    {
     "data": {
      "text/plain": [
       "False"
      ]
     },
     "execution_count": 3,
     "metadata": {},
     "output_type": "execute_result"
    }
   ],
   "source": [
    "near_thousand(99)"
   ]
  },
  {
   "cell_type": "code",
   "execution_count": 7,
   "id": "da4aa260",
   "metadata": {},
   "outputs": [
    {
     "ename": "SyntaxError",
     "evalue": "invalid syntax (3812583058.py, line 2)",
     "output_type": "error",
     "traceback": [
      "\u001b[1;36m  Input \u001b[1;32mIn [7]\u001b[1;36m\u001b[0m\n\u001b[1;33m    return True if 4 in [0,1,2,3,4]\u001b[0m\n\u001b[1;37m                                   ^\u001b[0m\n\u001b[1;31mSyntaxError\u001b[0m\u001b[1;31m:\u001b[0m invalid syntax\n"
     ]
    }
   ],
   "source": [
    "def check(int,list):\n",
    "  return True if 4 in [0,1,2,3,4]"
   ]
  },
  {
   "cell_type": "code",
   "execution_count": 9,
   "id": "747780c2",
   "metadata": {},
   "outputs": [],
   "source": [
    "def repetidos(lista):\n",
    "    lista = []\n",
    "    unicos = []\n",
    "    repetidos = []\n",
    "    for i in lista:\n",
    "        if i not in unicos:\n",
    "            return True\n",
    "    else:\n",
    "        if i not in repetidos:\n",
    "            return False\n",
    "  "
   ]
  },
  {
   "cell_type": "code",
   "execution_count": 12,
   "id": "08377c39",
   "metadata": {},
   "outputs": [
    {
     "ename": "UnboundLocalError",
     "evalue": "local variable 'i' referenced before assignment",
     "output_type": "error",
     "traceback": [
      "\u001b[1;31m---------------------------------------------------------------------------\u001b[0m",
      "\u001b[1;31mUnboundLocalError\u001b[0m                         Traceback (most recent call last)",
      "Input \u001b[1;32mIn [12]\u001b[0m, in \u001b[0;36m<cell line: 1>\u001b[1;34m()\u001b[0m\n\u001b[1;32m----> 1\u001b[0m \u001b[43mrepetidos\u001b[49m\u001b[43m(\u001b[49m\u001b[43mlista1\u001b[49m\u001b[43m)\u001b[49m\n",
      "Input \u001b[1;32mIn [9]\u001b[0m, in \u001b[0;36mrepetidos\u001b[1;34m(lista)\u001b[0m\n\u001b[0;32m      7\u001b[0m         \u001b[38;5;28;01mreturn\u001b[39;00m \u001b[38;5;28;01mTrue\u001b[39;00m\n\u001b[0;32m      8\u001b[0m \u001b[38;5;28;01melse\u001b[39;00m:\n\u001b[1;32m----> 9\u001b[0m     \u001b[38;5;28;01mif\u001b[39;00m \u001b[43mi\u001b[49m \u001b[38;5;129;01mnot\u001b[39;00m \u001b[38;5;129;01min\u001b[39;00m repetidos:\n\u001b[0;32m     10\u001b[0m         \u001b[38;5;28;01mreturn\u001b[39;00m \u001b[38;5;28;01mFalse\u001b[39;00m\n",
      "\u001b[1;31mUnboundLocalError\u001b[0m: local variable 'i' referenced before assignment"
     ]
    }
   ],
   "source": [
    "repetidos(lista1)"
   ]
  },
  {
   "cell_type": "code",
   "execution_count": 26,
   "id": "1e601a6c",
   "metadata": {},
   "outputs": [],
   "source": [
    "def repetidos(lista):\n",
    "    unicos = [i for i in lista]\n",
    "    print(unicos)\n",
    "    for i in lista:\n",
    "        if i in unicos:\n",
    "            return True\n",
    "        else:\n",
    "            if i not in unicos:\n",
    "                return False\n",
    "    print(unicos)"
   ]
  },
  {
   "cell_type": "code",
   "execution_count": 23,
   "id": "644019ba",
   "metadata": {},
   "outputs": [
    {
     "data": {
      "text/plain": [
       "[5, 4, 66, 34, 12, 141, 12, 2, 2, 2, 4, 5, 6, 4, 6, 4, 6, 4]"
      ]
     },
     "execution_count": 23,
     "metadata": {},
     "output_type": "execute_result"
    }
   ],
   "source": [
    "lista1\n"
   ]
  },
  {
   "cell_type": "code",
   "execution_count": 27,
   "id": "e4818344",
   "metadata": {},
   "outputs": [
    {
     "name": "stdout",
     "output_type": "stream",
     "text": [
      "[5, 4, 66, 34, 12, 141, 12, 2, 2, 2, 4, 5, 6, 4, 6, 4, 6, 4]\n"
     ]
    },
    {
     "data": {
      "text/plain": [
       "True"
      ]
     },
     "execution_count": 27,
     "metadata": {},
     "output_type": "execute_result"
    }
   ],
   "source": [
    "repetidos(lista1)"
   ]
  },
  {
   "cell_type": "code",
   "execution_count": 36,
   "id": "cc2bd526",
   "metadata": {},
   "outputs": [],
   "source": [
    "def repetidos():\n",
    "    nueva=[5, 4, 66, 34, 12, 141, 12, 2, 2, 2, 4, 5, 6, 4, 6, 4, 6, 4]\n",
    "    if len(nueva) == len(set(nueva)):\n",
    "        return False\n",
    "    else:\n",
    "        return True\n"
   ]
  },
  {
   "cell_type": "code",
   "execution_count": 37,
   "id": "e5ed30a6",
   "metadata": {},
   "outputs": [
    {
     "data": {
      "text/plain": [
       "True"
      ]
     },
     "execution_count": 37,
     "metadata": {},
     "output_type": "execute_result"
    }
   ],
   "source": [
    "repetidos()"
   ]
  },
  {
   "cell_type": "code",
   "execution_count": 38,
   "id": "5aad0e9a",
   "metadata": {},
   "outputs": [],
   "source": [
    "def dup_check(l):\n",
    "         return sorted(l) == sorted(set(l))"
   ]
  },
  {
   "cell_type": "code",
   "execution_count": 40,
   "id": "b9b8413c",
   "metadata": {},
   "outputs": [
    {
     "data": {
      "text/plain": [
       "False"
      ]
     },
     "execution_count": 40,
     "metadata": {},
     "output_type": "execute_result"
    }
   ],
   "source": [
    "dup_check(lista1)"
   ]
  },
  {
   "cell_type": "code",
   "execution_count": 41,
   "id": "e27ae55f",
   "metadata": {},
   "outputs": [
    {
     "data": {
      "text/plain": [
       "{2, 4, 5, 6, 12, 34, 66, 141}"
      ]
     },
     "execution_count": 41,
     "metadata": {},
     "output_type": "execute_result"
    }
   ],
   "source": [
    "set(lista1)"
   ]
  },
  {
   "cell_type": "code",
   "execution_count": 44,
   "id": "ee6faf59",
   "metadata": {},
   "outputs": [],
   "source": [
    "def primos(x):\n",
    "  if x%x == 0:\n",
    "    return True\n",
    "  else:\n",
    "    False"
   ]
  },
  {
   "cell_type": "code",
   "execution_count": 45,
   "id": "5e326534",
   "metadata": {},
   "outputs": [
    {
     "data": {
      "text/plain": [
       "True"
      ]
     },
     "execution_count": 45,
     "metadata": {},
     "output_type": "execute_result"
    }
   ],
   "source": [
    "primos(2)"
   ]
  },
  {
   "cell_type": "code",
   "execution_count": 46,
   "id": "69d39ee7",
   "metadata": {},
   "outputs": [
    {
     "data": {
      "text/plain": [
       "True"
      ]
     },
     "execution_count": 46,
     "metadata": {},
     "output_type": "execute_result"
    }
   ],
   "source": [
    "primos(10)"
   ]
  },
  {
   "cell_type": "code",
   "execution_count": 61,
   "id": "ddea998a",
   "metadata": {},
   "outputs": [],
   "source": [
    "def primos(x):\n",
    "    if x>2:\n",
    "        for n in range(2, x):\n",
    "            if x%n == 0:\n",
    "                return False\n",
    "        return True\n",
    "\n",
    "    else:\n",
    "        False\n"
   ]
  },
  {
   "cell_type": "code",
   "execution_count": 63,
   "id": "a31eba49",
   "metadata": {},
   "outputs": [],
   "source": [
    "primos(-1)"
   ]
  },
  {
   "cell_type": "code",
   "execution_count": null,
   "id": "76a2c533",
   "metadata": {},
   "outputs": [],
   "source": []
  },
  {
   "cell_type": "code",
   "execution_count": 1,
   "id": "e3a04c9f",
   "metadata": {},
   "outputs": [
    {
     "name": "stdout",
     "output_type": "stream",
     "text": [
      "['a', 'b', 'c']\n"
     ]
    }
   ],
   "source": [
    "mylist = [\"a\", \"b\", \"a\", \"c\", \"c\"]\n",
    "mylist = list(dict.fromkeys(mylist))\n",
    "print(mylist)"
   ]
  },
  {
   "cell_type": "code",
   "execution_count": null,
   "id": "36a7e6e8",
   "metadata": {},
   "outputs": [],
   "source": [
    "def media(x):\n",
    "    sum(x)\n",
    "    "
   ]
  }
 ],
 "metadata": {
  "kernelspec": {
   "display_name": "Python 3 (ipykernel)",
   "language": "python",
   "name": "python3"
  },
  "language_info": {
   "codemirror_mode": {
    "name": "ipython",
    "version": 3
   },
   "file_extension": ".py",
   "mimetype": "text/x-python",
   "name": "python",
   "nbconvert_exporter": "python",
   "pygments_lexer": "ipython3",
   "version": "3.9.12"
  }
 },
 "nbformat": 4,
 "nbformat_minor": 5
}
